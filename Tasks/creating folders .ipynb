{
 "cells": [
  {
   "cell_type": "code",
   "execution_count": 2,
   "metadata": {},
   "outputs": [
    {
     "name": "stdout",
     "output_type": "stream",
     "text": [
      "Successfully create the directory D:\\mine\\data-science\\instant\\AICourse/Task1\n",
      "Successfully create the directory D:\\mine\\data-science\\instant\\AICourse/Task2\n",
      "Successfully create the directory D:\\mine\\data-science\\instant\\AICourse/Task3\n",
      "Successfully create the directory D:\\mine\\data-science\\instant\\AICourse/Task4\n",
      "Successfully create the directory D:\\mine\\data-science\\instant\\AICourse/Task5\n",
      "Successfully create the directory D:\\mine\\data-science\\instant\\AICourse/Task6\n",
      "Successfully create the directory D:\\mine\\data-science\\instant\\AICourse/Task7\n",
      "Successfully create the directory D:\\mine\\data-science\\instant\\AICourse/Task8\n",
      "Successfully create the directory D:\\mine\\data-science\\instant\\AICourse/Task9\n",
      "Successfully create the directory D:\\mine\\data-science\\instant\\AICourse/Task10\n",
      "Successfully create the directory D:\\mine\\data-science\\instant\\AICourse/Task11\n",
      "Successfully create the directory D:\\mine\\data-science\\instant\\AICourse/Task12\n",
      "Successfully create the directory D:\\mine\\data-science\\instant\\AICourse/Task13\n",
      "Successfully create the directory D:\\mine\\data-science\\instant\\AICourse/Task14\n",
      "Successfully create the directory D:\\mine\\data-science\\instant\\AICourse/Task15\n",
      "Successfully create the directory D:\\mine\\data-science\\instant\\AICourse/Task16\n",
      "Successfully create the directory D:\\mine\\data-science\\instant\\AICourse/Task17\n",
      "Successfully create the directory D:\\mine\\data-science\\instant\\AICourse/Task18\n",
      "Successfully create the directory D:\\mine\\data-science\\instant\\AICourse/Task19\n",
      "Successfully create the directory D:\\mine\\data-science\\instant\\AICourse/Task20\n",
      "Successfully create the directory D:\\mine\\data-science\\instant\\AICourse/Task21\n",
      "Successfully create the directory D:\\mine\\data-science\\instant\\AICourse/Task22\n",
      "Successfully create the directory D:\\mine\\data-science\\instant\\AICourse/Task23\n",
      "Successfully create the directory D:\\mine\\data-science\\instant\\AICourse/Task24\n",
      "Successfully create the directory D:\\mine\\data-science\\instant\\AICourse/Task25\n",
      "Successfully create the directory D:\\mine\\data-science\\instant\\AICourse/Task26\n",
      "Successfully create the directory D:\\mine\\data-science\\instant\\AICourse/Task27\n",
      "Successfully create the directory D:\\mine\\data-science\\instant\\AICourse/Task28\n",
      "Successfully create the directory D:\\mine\\data-science\\instant\\AICourse/Task29\n",
      "Successfully create the directory D:\\mine\\data-science\\instant\\AICourse/Task30\n"
     ]
    }
   ],
   "source": [
    "import os \n",
    "path = os.getcwd()\n",
    "for i in range(1, 31): \n",
    "    try:\n",
    "        \n",
    "        newpath= path+ \"/Task\"+ str(i)\n",
    "        os.mkdir(newpath)\n",
    "    except OSError:\n",
    "        print(\"Creation fo the directory is fallied\" % newpath) \n",
    "    else:\n",
    "        print(\"Successfully create the directory %s\" % newpath)\n",
    "            "
   ]
  },
  {
   "cell_type": "code",
   "execution_count": null,
   "metadata": {},
   "outputs": [],
   "source": []
  }
 ],
 "metadata": {
  "kernelspec": {
   "display_name": "Python 3",
   "language": "python",
   "name": "python3"
  },
  "language_info": {
   "codemirror_mode": {
    "name": "ipython",
    "version": 3
   },
   "file_extension": ".py",
   "mimetype": "text/x-python",
   "name": "python",
   "nbconvert_exporter": "python",
   "pygments_lexer": "ipython3",
   "version": "3.7.4"
  }
 },
 "nbformat": 4,
 "nbformat_minor": 2
}
