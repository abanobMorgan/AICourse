{
 "cells": [
  {
   "cell_type": "code",
   "execution_count": 27,
   "metadata": {},
   "outputs": [
    {
     "name": "stdout",
     "output_type": "stream",
     "text": [
      "the mode value is 24, and it repeated 5 times with precentage 0.1515%\n",
      "the mode value is 25, and it repeated 5 times with precentage 0.1515%\n"
     ]
    }
   ],
   "source": [
    "data = [20,15,25,15,20,25,12,21,24,24,26,26,25,24,26,28,23,24,21,21,12,23,32,56,45,84,25,15,35,24,25,21,54]\n",
    "data_set = (set(data))\n",
    "dic = {}\n",
    "\n",
    "\n",
    "for i in data_set:\n",
    "    dic[i] = data.count(i)\n",
    "modevalue= (max(dic.values()))\n",
    "\n",
    "\n",
    "for key, val in dic.items():\n",
    "    if (val == modevalue):\n",
    "        print(f'the mode value is {key}, and it repeated {val} times with precentage {(val/len(data)):.4f}%'  )"
   ]
  },
  {
   "cell_type": "code",
   "execution_count": null,
   "metadata": {},
   "outputs": [],
   "source": []
  }
 ],
 "metadata": {
  "kernelspec": {
   "display_name": "Python 3",
   "language": "python",
   "name": "python3"
  },
  "language_info": {
   "codemirror_mode": {
    "name": "ipython",
    "version": 3
   },
   "file_extension": ".py",
   "mimetype": "text/x-python",
   "name": "python",
   "nbconvert_exporter": "python",
   "pygments_lexer": "ipython3",
   "version": "3.7.4"
  }
 },
 "nbformat": 4,
 "nbformat_minor": 2
}
