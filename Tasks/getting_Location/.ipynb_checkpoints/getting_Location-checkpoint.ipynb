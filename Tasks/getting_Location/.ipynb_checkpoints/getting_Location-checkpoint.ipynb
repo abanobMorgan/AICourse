{
 "cells": [
  {
   "cell_type": "code",
   "execution_count": 1,
   "metadata": {},
   "outputs": [
    {
     "name": "stdout",
     "output_type": "stream",
     "text": [
      "0x7ff80469a2b0\n",
      "0x1b665d92450\n",
      "0x1b6650e4fb0\n"
     ]
    }
   ],
   "source": [
    "x = 10 \n",
    "y = 1.2 \n",
    "z = 'Location' \n",
    "print(hex(id(x)))\n",
    "print(hex(id(y)))\n",
    "print(hex(id(z)))\n"
   ]
  }
 ],
 "metadata": {
  "kernelspec": {
   "display_name": "Python 3",
   "language": "python",
   "name": "python3"
  },
  "language_info": {
   "codemirror_mode": {
    "name": "ipython",
    "version": 3
   },
   "file_extension": ".py",
   "mimetype": "text/x-python",
   "name": "python",
   "nbconvert_exporter": "python",
   "pygments_lexer": "ipython3",
   "version": "3.7.4"
  }
 },
 "nbformat": 4,
 "nbformat_minor": 2
}
